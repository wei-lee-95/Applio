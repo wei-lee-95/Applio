{
 "cells": [
  {
   "cell_type": "markdown",
   "metadata": {},
   "source": [
    "## **Applio**\n",
    "A simple, high-quality voice conversion tool focused on ease of use and performance.\n",
    "\n",
    "[Support](https://discord.gg/urxFjYmYYh) — [GitHub](https://github.com/IAHispano/Applio)\n",
    "\n",
    "<br>\n",
    "\n",
    "### **Credits**\n",
    "- Encryption method: [Hina](https://github.com/hinabl)\n",
    "- Uv code: [Shirou](https://github.com/ShiromiyaG)\n",
    "- Main development: [Applio Team](https://github.com/IAHispano)\n",
    "\n"
   ]
  },
  {
   "cell_type": "markdown",
   "metadata": {},
   "source": [
    "## Install"
   ]
  },
  {
   "cell_type": "code",
   "execution_count": null,
   "metadata": {
    "trusted": true
   },
   "outputs": [],
   "source": [
    "import codecs\n",
    "from IPython.display import clear_output\n",
    "rot_47 = lambda encoded_text: \"\".join(\n",
    "    [\n",
    "        (\n",
    "            chr(\n",
    "                (ord(c) - (ord(\"a\") if c.islower() else ord(\"A\")) - 47) % 26\n",
    "                + (ord(\"a\") if c.islower() else ord(\"A\"))\n",
    "            )\n",
    "            if c.isalpha()\n",
    "            else c\n",
    "        )\n",
    "        for c in encoded_text\n",
    "    ]\n",
    ")\n",
    "\n",
    "new_name = rot_47(\"kmjbmvh_hg\")\n",
    "findme = rot_47(codecs.decode(\"pbbxa://oqbpcj.kwu/Dqlitvb/qurwg-mtnqvlmz.oqb\", \"rot_13\"))\n",
    "uioawhd = rot_47(codecs.decode(\"pbbxa://oqbpcj.kwu/QIPqaxivw/Ixxtqw.oqb\", \"rot_13\"))\n",
    "!pip install uv\n",
    "!git clone --depth 1 $uioawhd $new_name --branch 3.2.9\n",
    "clear_output()\n",
    "!mkdir -p /kaggle/tmp\n",
    "%cd /kaggle/tmp\n",
    "!uv pip install torch==2.7.1 torchvision torchaudio==2.7.1 --upgrade --index-url https://download.pytorch.org/whl/cu128 -q\n",
    "!uv pip install -r /kaggle/working/program_ml/requirements.txt -q\n",
    "%cd /kaggle/working/program_ml\n",
    "!python core.py \"prerequisites\" --models \"True\" --exe \"True\" --pretraineds_hifigan \"True\" > /dev/null 2>&1\n",
    "!sudo curl -fsSL https://raw.githubusercontent.com/filebrowser/get/master/get.sh | sudo bash\n",
    "!filebrowser config init\n",
    "!filebrowser config set --auth.method=noauth\n",
    "!filebrowser users add  \"applio\" \"\" --perm.admin\n",
    "clear_output()\n",
    "print(\"Finished\")"
   ]
  },
  {
   "cell_type": "markdown",
   "metadata": {},
   "source": [
    "## Setup Ngrok"
   ]
  },
  {
   "cell_type": "code",
   "execution_count": null,
   "metadata": {
    "trusted": true
   },
   "outputs": [],
   "source": [
    "#https://dashboard.ngrok.com/get-started/your-authtoken (Token Ngrok)\n",
    "!pip install pyngrok\n",
    "!ngrok config add-authtoken token"
   ]
  },
  {
   "cell_type": "markdown",
   "metadata": {},
   "source": [
    "## Start"
   ]
  },
  {
   "cell_type": "code",
   "execution_count": null,
   "metadata": {
    "trusted": true
   },
   "outputs": [],
   "source": [
    "import os\n",
    "from pyngrok import ngrok\n",
    "from IPython.display import clear_output\n",
    "ngrok.kill()\n",
    "%cd /kaggle/working/program_ml\n",
    "os.system(f\"filebrowser -r /kaggle -p 9876 > /dev/null 2>&1 &\")\n",
    "clear_output()\n",
    "%load_ext tensorboard\n",
    "%tensorboard --logdir logs --port 8077\n",
    "p_tunnel = ngrok.connect(6969)\n",
    "t_tunnel = ngrok.connect(8077)\n",
    "f_tunnel = ngrok.connect(9876)\n",
    "clear_output()\n",
    "print(\"Applio Url:\", p_tunnel.public_url)\n",
    "print(\"Tensorboard Url:\", t_tunnel.public_url)\n",
    "print(\"File Url:\", f_tunnel.public_url)\n",
    "print(\"Save the link for later, this will take a while...\")\n",
    "\n",
    "!python app.py"
   ]
  }
 ],
 "metadata": {
  "kaggle": {
   "accelerator": "nvidiaTeslaT4",
   "dataSources": [],
   "dockerImageVersionId": 30558,
   "isGpuEnabled": true,
   "isInternetEnabled": true,
   "language": "python",
   "sourceType": "notebook"
  },
  "kernelspec": {
   "display_name": "Python 3",
   "language": "python",
   "name": "python3"
  },
  "language_info": {
   "codemirror_mode": {
    "name": "ipython",
    "version": 3
   },
   "file_extension": ".py",
   "mimetype": "text/x-python",
   "name": "python",
   "nbconvert_exporter": "python",
   "pygments_lexer": "ipython3",
   "version": "3.10.12"
  }
 },
 "nbformat": 4,
 "nbformat_minor": 4
}
